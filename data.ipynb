{
 "cells": [
  {
   "cell_type": "code",
   "execution_count": 1,
   "metadata": {},
   "outputs": [],
   "source": [
    "import pandas as pd\n",
    "from tqdm import tqdm\n",
    "from datasets import load_dataset\n",
    "from src.tkns.tokenizer import Tokenizer"
   ]
  },
  {
   "cell_type": "code",
   "execution_count": null,
   "metadata": {},
   "outputs": [],
   "source": [
    "local_dir = \"./data\"\n",
    "\n",
    "if False:\n",
    "    dataset = load_dataset(\"multimolecule/rnacentral.1024\", cache_dir=local_dir)"
   ]
  },
  {
   "cell_type": "code",
   "execution_count": null,
   "metadata": {},
   "outputs": [],
   "source": [
    "i = 0\n",
    "chunk_size = 10_000\n",
    "unique_nucleotides = set()\n",
    "\n",
    "for chunk in pd.read_csv(f\"{local_dir}/rna_central.1024.csv\", chunksize=chunk_size):\n",
    "    sequences = chunk['sequence']\n",
    "    \n",
    "    # Iterate over each sequence in the chunk\n",
    "    for seq in sequences:\n",
    "        # Add nucleotides from the sequence to the set\n",
    "        unique_nucleotides.update(seq)  # Adds each nucleotide from the string to the set\n",
    "    \n",
    "unique_nucleotides = set([e.upper() for e in list(unique_nucleotides)])\n",
    "print(\"Unique nucleotides:\", unique_nucleotides)"
   ]
  },
  {
   "cell_type": "code",
   "execution_count": 3,
   "metadata": {},
   "outputs": [],
   "source": [
    "tkn = Tokenizer(\"src/tkns/unique_nucleotides.csv\")"
   ]
  },
  {
   "cell_type": "code",
   "execution_count": null,
   "metadata": {},
   "outputs": [],
   "source": [
    "data = pd.read_csv(f\"{local_dir}/rna_central.1024.csv\")"
   ]
  },
  {
   "cell_type": "code",
   "execution_count": null,
   "metadata": {},
   "outputs": [],
   "source": [
    "data.head()"
   ]
  },
  {
   "cell_type": "code",
   "execution_count": null,
   "metadata": {},
   "outputs": [],
   "source": [
    "inp_seq = data['sequence'][0]\n",
    "enc = tkn.encode(inp_seq, include_special_tokens=False)\n",
    "seq = tkn.decode(enc, skip_special_tokens=True, include_bos_eos=False)"
   ]
  },
  {
   "cell_type": "code",
   "execution_count": null,
   "metadata": {},
   "outputs": [],
   "source": [
    "seq == inp_seq"
   ]
  },
  {
   "cell_type": "code",
   "execution_count": null,
   "metadata": {},
   "outputs": [],
   "source": [
    "inp_seq"
   ]
  },
  {
   "cell_type": "code",
   "execution_count": null,
   "metadata": {},
   "outputs": [],
   "source": [
    "seq"
   ]
  },
  {
   "cell_type": "code",
   "execution_count": null,
   "metadata": {},
   "outputs": [],
   "source": []
  }
 ],
 "metadata": {
  "kernelspec": {
   "display_name": "base",
   "language": "python",
   "name": "python3"
  },
  "language_info": {
   "codemirror_mode": {
    "name": "ipython",
    "version": 3
   },
   "file_extension": ".py",
   "mimetype": "text/x-python",
   "name": "python",
   "nbconvert_exporter": "python",
   "pygments_lexer": "ipython3",
   "version": "3.12.4"
  }
 },
 "nbformat": 4,
 "nbformat_minor": 2
}
